{
  "nbformat": 4,
  "nbformat_minor": 0,
  "metadata": {
    "colab": {
      "name": "mnist_learn_Cnn.ipynb",
      "version": "0.3.2",
      "provenance": [],
      "collapsed_sections": [],
      "include_colab_link": true
    },
    "kernelspec": {
      "name": "python3",
      "display_name": "Python 3"
    }
  },
  "cells": [
    {
      "cell_type": "markdown",
      "metadata": {
        "id": "view-in-github",
        "colab_type": "text"
      },
      "source": [
        "[View in Colaboratory](https://colab.research.google.com/github/abhiram11/ML-on-Colab/blob/master/mnist_learn_Cnn.ipynb)"
      ]
    },
    {
      "metadata": {
        "id": "mWdMr5S8oZ1x",
        "colab_type": "code",
        "colab": {
          "base_uri": "https://localhost:8080/",
          "height": 578
        },
        "outputId": "85b060bb-2100-4f76-f5c9-c5554d4e8d58"
      },
      "cell_type": "code",
      "source": [
        "\n",
        "from __future__ import print_function\n",
        "import keras\n",
        "from keras.datasets import mnist\n",
        "from keras.models import Sequential\n",
        "from keras.layers import Dense, Dropout, Flatten\n",
        "from keras.layers import Conv2D, MaxPooling2D\n",
        "from keras import backend as K\n",
        "\n",
        "batch_size = 128\n",
        "num_classes = 10\n",
        "epochs = 12\n",
        "\n",
        "# input image dimensions\n",
        "img_rows, img_cols = 28, 28\n",
        "\n",
        "# the data, split between train and test sets\n",
        "(x_train, y_train), (x_test, y_test) = mnist.load_data()\n",
        "\n",
        "if K.image_data_format() == 'channels_first':\n",
        "    x_train = x_train.reshape(x_train.shape[0], 1, img_rows, img_cols)\n",
        "    x_test = x_test.reshape(x_test.shape[0], 1, img_rows, img_cols)\n",
        "    input_shape = (1, img_rows, img_cols)\n",
        "else:\n",
        "    x_train = x_train.reshape(x_train.shape[0], img_rows, img_cols, 1)\n",
        "    x_test = x_test.reshape(x_test.shape[0], img_rows, img_cols, 1)\n",
        "    input_shape = (img_rows, img_cols, 1)\n",
        "\n",
        "x_train = x_train.astype('float32')\n",
        "x_test = x_test.astype('float32')\n",
        "x_train /= 255\n",
        "x_test /= 255\n",
        "print('x_train shape:', x_train.shape)\n",
        "print(x_train.shape[0], 'train samples')\n",
        "print(x_test.shape[0], 'test samples')\n",
        "\n",
        "# convert class vectors to binary class matrices\n",
        "y_train = keras.utils.to_categorical(y_train, num_classes)\n",
        "y_test = keras.utils.to_categorical(y_test, num_classes)\n",
        "\n",
        "model = Sequential()\n",
        "model.add(Conv2D(32, kernel_size=(3, 3),\n",
        "                 activation='relu',\n",
        "                 input_shape=input_shape))\n",
        "model.add(Conv2D(64, (3, 3), activation='relu'))\n",
        "model.add(MaxPooling2D(pool_size=(2, 2)))\n",
        "model.add(Dropout(0.25))\n",
        "model.add(Flatten())\n",
        "model.add(Dense(128, activation='relu'))\n",
        "model.add(Dropout(0.5))\n",
        "model.add(Dense(num_classes, activation='softmax'))\n",
        "\n",
        "model.compile(loss=keras.losses.categorical_crossentropy,\n",
        "              optimizer=keras.optimizers.Adadelta(),\n",
        "              metrics=['accuracy'])\n",
        "\n",
        "model.fit(x_train, y_train,\n",
        "          batch_size=batch_size,\n",
        "          epochs=epochs,\n",
        "          verbose=1,\n",
        "          validation_data=(x_test, y_test))\n",
        "score = model.evaluate(x_test, y_test, verbose=0)\n",
        "print('Test loss:', score[0])\n",
        "print('Test accuracy:', score[1])\n"
      ],
      "execution_count": 1,
      "outputs": [
        {
          "output_type": "stream",
          "text": [
            "Using TensorFlow backend.\n"
          ],
          "name": "stderr"
        },
        {
          "output_type": "stream",
          "text": [
            "Downloading data from https://s3.amazonaws.com/img-datasets/mnist.npz\n",
            "11493376/11490434 [==============================] - 1s 0us/step\n",
            "x_train shape: (60000, 28, 28, 1)\n",
            "60000 train samples\n",
            "10000 test samples\n",
            "Train on 60000 samples, validate on 10000 samples\n",
            "Epoch 1/12\n",
            "60000/60000 [==============================] - 183s 3ms/step - loss: 0.2761 - acc: 0.9153 - val_loss: 0.0572 - val_acc: 0.9821\n",
            "Epoch 2/12\n",
            "60000/60000 [==============================] - 179s 3ms/step - loss: 0.0933 - acc: 0.9721 - val_loss: 0.0449 - val_acc: 0.9857\n",
            "Epoch 3/12\n",
            "60000/60000 [==============================] - 177s 3ms/step - loss: 0.0698 - acc: 0.9796 - val_loss: 0.0358 - val_acc: 0.9883\n",
            "Epoch 4/12\n",
            "60000/60000 [==============================] - 177s 3ms/step - loss: 0.0563 - acc: 0.9833 - val_loss: 0.0303 - val_acc: 0.9896\n",
            "Epoch 5/12\n",
            "60000/60000 [==============================] - 177s 3ms/step - loss: 0.0480 - acc: 0.9853 - val_loss: 0.0292 - val_acc: 0.9910\n",
            "Epoch 6/12\n",
            "60000/60000 [==============================] - 178s 3ms/step - loss: 0.0430 - acc: 0.9869 - val_loss: 0.0344 - val_acc: 0.9883\n",
            "Epoch 7/12\n",
            "60000/60000 [==============================] - 178s 3ms/step - loss: 0.0379 - acc: 0.9883 - val_loss: 0.0305 - val_acc: 0.9905\n",
            "Epoch 8/12\n",
            "60000/60000 [==============================] - 178s 3ms/step - loss: 0.0365 - acc: 0.9887 - val_loss: 0.0273 - val_acc: 0.9912\n",
            "Epoch 9/12\n",
            "60000/60000 [==============================] - 176s 3ms/step - loss: 0.0323 - acc: 0.9898 - val_loss: 0.0303 - val_acc: 0.9905\n",
            "Epoch 10/12\n",
            "60000/60000 [==============================] - 178s 3ms/step - loss: 0.0304 - acc: 0.9906 - val_loss: 0.0297 - val_acc: 0.9919\n",
            "Epoch 11/12\n",
            "60000/60000 [==============================] - 176s 3ms/step - loss: 0.0279 - acc: 0.9919 - val_loss: 0.0320 - val_acc: 0.9910\n",
            "Epoch 12/12\n",
            "60000/60000 [==============================] - 178s 3ms/step - loss: 0.0269 - acc: 0.9915 - val_loss: 0.0288 - val_acc: 0.9922\n",
            "Test loss: 0.02879141001627254\n",
            "Test accuracy: 0.9922\n"
          ],
          "name": "stdout"
        }
      ]
    },
    {
      "metadata": {
        "id": "JZtZWlqhoeoj",
        "colab_type": "code",
        "colab": {}
      },
      "cell_type": "code",
      "source": [
        ""
      ],
      "execution_count": 0,
      "outputs": []
    }
  ]
}